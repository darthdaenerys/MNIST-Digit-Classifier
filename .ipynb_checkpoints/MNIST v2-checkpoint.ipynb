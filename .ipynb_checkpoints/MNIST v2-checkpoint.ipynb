{
 "cells": [
  {
   "cell_type": "code",
   "execution_count": 39,
   "id": "a50d00ce",
   "metadata": {},
   "outputs": [],
   "source": [
    "import tensorflow as tf\n",
    "import numpy as np\n",
    "from tensorflow import keras,image\n",
    "from keras import activations,layers,initializers,losses,models,regularizers,Sequential,optimizers\n",
    "from tensorflow.keras.layers import Dropout,BatchNormalization,experimental\n",
    "import matplotlib.pyplot as plt\n",
    "from keras.datasets import mnist\n",
    "import pandas as pd"
   ]
  },
  {
   "cell_type": "code",
   "execution_count": 40,
   "id": "36f93aab",
   "metadata": {},
   "outputs": [
    {
     "data": {
      "text/plain": [
       "'2.9.1'"
      ]
     },
     "execution_count": 40,
     "metadata": {},
     "output_type": "execute_result"
    }
   ],
   "source": [
    "tf.__version__"
   ]
  },
  {
   "cell_type": "code",
   "execution_count": 41,
   "id": "6690f521",
   "metadata": {},
   "outputs": [
    {
     "data": {
      "text/plain": [
       "((60000, 28, 28), (60000,))"
      ]
     },
     "execution_count": 41,
     "metadata": {},
     "output_type": "execute_result"
    }
   ],
   "source": [
    "(x_train,y_train),(x_test,y_test)=mnist.load_data()\n",
    "x_train.shape,y_train.shape"
   ]
  },
  {
   "cell_type": "code",
   "execution_count": 42,
   "id": "0e685866",
   "metadata": {
    "scrolled": true
   },
   "outputs": [
    {
     "data": {
      "text/plain": [
       "array([[  0,   0,   0,   0,   0,   0,   0,   0,   0,   0,   0,   0,   0,\n",
       "          0,   0,   0,   0,   0,   0,   0,   0,   0,   0,   0,   0,   0,\n",
       "          0,   0],\n",
       "       [  0,   0,   0,   0,   0,   0,   0,   0,   0,   0,   0,   0,   0,\n",
       "          0,   0,   0,   0,   0,   0,   0,   0,   0,   0,   0,   0,   0,\n",
       "          0,   0],\n",
       "       [  0,   0,   0,   0,   0,   0,   0,   0,   0,   0,   0,   0,   0,\n",
       "          0,   0,   0,   0,   0,   0,   0,   0,   0,   0,   0,   0,   0,\n",
       "          0,   0],\n",
       "       [  0,   0,   0,   0,   0,   0,   0,   0,   0,   0,   0,   0,   0,\n",
       "          0,   0,   0,   0,   0,   0,   0,   0,   0,   0,   0,   0,   0,\n",
       "          0,   0],\n",
       "       [  0,   0,   0,   0,   0,   0,   0,   0,   0,   0,   0,   0,   0,\n",
       "          0,   0,   0,   0,   0,   0,   0,   0,   0,   0,   0,   0,   0,\n",
       "          0,   0],\n",
       "       [  0,   0,   0,   0,   0,   0,   0,   0,   0,   0,   0,   0,   3,\n",
       "         18,  18,  18, 126, 136, 175,  26, 166, 255, 247, 127,   0,   0,\n",
       "          0,   0],\n",
       "       [  0,   0,   0,   0,   0,   0,   0,   0,  30,  36,  94, 154, 170,\n",
       "        253, 253, 253, 253, 253, 225, 172, 253, 242, 195,  64,   0,   0,\n",
       "          0,   0],\n",
       "       [  0,   0,   0,   0,   0,   0,   0,  49, 238, 253, 253, 253, 253,\n",
       "        253, 253, 253, 253, 251,  93,  82,  82,  56,  39,   0,   0,   0,\n",
       "          0,   0],\n",
       "       [  0,   0,   0,   0,   0,   0,   0,  18, 219, 253, 253, 253, 253,\n",
       "        253, 198, 182, 247, 241,   0,   0,   0,   0,   0,   0,   0,   0,\n",
       "          0,   0],\n",
       "       [  0,   0,   0,   0,   0,   0,   0,   0,  80, 156, 107, 253, 253,\n",
       "        205,  11,   0,  43, 154,   0,   0,   0,   0,   0,   0,   0,   0,\n",
       "          0,   0],\n",
       "       [  0,   0,   0,   0,   0,   0,   0,   0,   0,  14,   1, 154, 253,\n",
       "         90,   0,   0,   0,   0,   0,   0,   0,   0,   0,   0,   0,   0,\n",
       "          0,   0],\n",
       "       [  0,   0,   0,   0,   0,   0,   0,   0,   0,   0,   0, 139, 253,\n",
       "        190,   2,   0,   0,   0,   0,   0,   0,   0,   0,   0,   0,   0,\n",
       "          0,   0],\n",
       "       [  0,   0,   0,   0,   0,   0,   0,   0,   0,   0,   0,  11, 190,\n",
       "        253,  70,   0,   0,   0,   0,   0,   0,   0,   0,   0,   0,   0,\n",
       "          0,   0],\n",
       "       [  0,   0,   0,   0,   0,   0,   0,   0,   0,   0,   0,   0,  35,\n",
       "        241, 225, 160, 108,   1,   0,   0,   0,   0,   0,   0,   0,   0,\n",
       "          0,   0],\n",
       "       [  0,   0,   0,   0,   0,   0,   0,   0,   0,   0,   0,   0,   0,\n",
       "         81, 240, 253, 253, 119,  25,   0,   0,   0,   0,   0,   0,   0,\n",
       "          0,   0],\n",
       "       [  0,   0,   0,   0,   0,   0,   0,   0,   0,   0,   0,   0,   0,\n",
       "          0,  45, 186, 253, 253, 150,  27,   0,   0,   0,   0,   0,   0,\n",
       "          0,   0],\n",
       "       [  0,   0,   0,   0,   0,   0,   0,   0,   0,   0,   0,   0,   0,\n",
       "          0,   0,  16,  93, 252, 253, 187,   0,   0,   0,   0,   0,   0,\n",
       "          0,   0],\n",
       "       [  0,   0,   0,   0,   0,   0,   0,   0,   0,   0,   0,   0,   0,\n",
       "          0,   0,   0,   0, 249, 253, 249,  64,   0,   0,   0,   0,   0,\n",
       "          0,   0],\n",
       "       [  0,   0,   0,   0,   0,   0,   0,   0,   0,   0,   0,   0,   0,\n",
       "          0,  46, 130, 183, 253, 253, 207,   2,   0,   0,   0,   0,   0,\n",
       "          0,   0],\n",
       "       [  0,   0,   0,   0,   0,   0,   0,   0,   0,   0,   0,   0,  39,\n",
       "        148, 229, 253, 253, 253, 250, 182,   0,   0,   0,   0,   0,   0,\n",
       "          0,   0],\n",
       "       [  0,   0,   0,   0,   0,   0,   0,   0,   0,   0,  24, 114, 221,\n",
       "        253, 253, 253, 253, 201,  78,   0,   0,   0,   0,   0,   0,   0,\n",
       "          0,   0],\n",
       "       [  0,   0,   0,   0,   0,   0,   0,   0,  23,  66, 213, 253, 253,\n",
       "        253, 253, 198,  81,   2,   0,   0,   0,   0,   0,   0,   0,   0,\n",
       "          0,   0],\n",
       "       [  0,   0,   0,   0,   0,   0,  18, 171, 219, 253, 253, 253, 253,\n",
       "        195,  80,   9,   0,   0,   0,   0,   0,   0,   0,   0,   0,   0,\n",
       "          0,   0],\n",
       "       [  0,   0,   0,   0,  55, 172, 226, 253, 253, 253, 253, 244, 133,\n",
       "         11,   0,   0,   0,   0,   0,   0,   0,   0,   0,   0,   0,   0,\n",
       "          0,   0],\n",
       "       [  0,   0,   0,   0, 136, 253, 253, 253, 212, 135, 132,  16,   0,\n",
       "          0,   0,   0,   0,   0,   0,   0,   0,   0,   0,   0,   0,   0,\n",
       "          0,   0],\n",
       "       [  0,   0,   0,   0,   0,   0,   0,   0,   0,   0,   0,   0,   0,\n",
       "          0,   0,   0,   0,   0,   0,   0,   0,   0,   0,   0,   0,   0,\n",
       "          0,   0],\n",
       "       [  0,   0,   0,   0,   0,   0,   0,   0,   0,   0,   0,   0,   0,\n",
       "          0,   0,   0,   0,   0,   0,   0,   0,   0,   0,   0,   0,   0,\n",
       "          0,   0],\n",
       "       [  0,   0,   0,   0,   0,   0,   0,   0,   0,   0,   0,   0,   0,\n",
       "          0,   0,   0,   0,   0,   0,   0,   0,   0,   0,   0,   0,   0,\n",
       "          0,   0]], dtype=uint8)"
      ]
     },
     "execution_count": 42,
     "metadata": {},
     "output_type": "execute_result"
    }
   ],
   "source": [
    "x_train[0]"
   ]
  },
  {
   "cell_type": "code",
   "execution_count": 43,
   "id": "044a54f8",
   "metadata": {},
   "outputs": [
    {
     "data": {
      "text/plain": [
       "5"
      ]
     },
     "execution_count": 43,
     "metadata": {},
     "output_type": "execute_result"
    }
   ],
   "source": [
    "x_train=x_train/255.0\n",
    "y_train[0]"
   ]
  },
  {
   "cell_type": "code",
   "execution_count": 44,
   "id": "2b6b7adf",
   "metadata": {},
   "outputs": [],
   "source": [
    "# assumed data of shape 2,4\n",
    "def visualize_data(data):\n",
    "    for i in range(4):\n",
    "        plt.subplot(2,4,i+1)\n",
    "        plt.imshow(data[i],cmap='gray')\n",
    "    for i in range(4,8):\n",
    "        plt.subplot(2,4,i+1)\n",
    "        plt.imshow(data[i],cmap='gray')\n",
    "    plt.show()"
   ]
  },
  {
   "cell_type": "code",
   "execution_count": 45,
   "id": "ee90ee55",
   "metadata": {},
   "outputs": [],
   "source": [
    "def augmentation_change(initial,final):\n",
    "    plt.subplot(1,2,1)\n",
    "    plt.title('Original Image')\n",
    "    plt.imshow(initial,cmap='gray')\n",
    "    plt.subplot(1,2,2)\n",
    "    plt.title('Augmented Image')\n",
    "    plt.imshow(final,cmap='gray')\n",
    "    plt.show()"
   ]
  },
  {
   "cell_type": "code",
   "execution_count": 46,
   "id": "a9097874",
   "metadata": {
    "scrolled": false
   },
   "outputs": [
    {
     "data": {
      "image/png": "[encoded data removed]",
      "text/plain": [
       "<Figure size 432x288 with 8 Axes>"
      ]
     },
     "metadata": {
      "needs_background": "light"
     },
     "output_type": "display_data"
    }
   ],
   "source": [
    "visualize_data(x_train[:8])"
   ]
  },
  {
   "cell_type": "code",
   "execution_count": 47,
   "id": "63ebb767",
   "metadata": {},
   "outputs": [],
   "source": [
    "resize_rescale=Sequential([\n",
    "    layers.Rescaling(scale=1./255),\n",
    "    layers.Resizing(28,28)\n",
    "])"
   ]
  },
  {
   "cell_type": "code",
   "execution_count": 48,
   "id": "1b2d40c9",
   "metadata": {
    "scrolled": false
   },
   "outputs": [
    {
     "name": "stdout",
     "output_type": "stream",
     "text": [
      "Model: \"sequential_6\"\n",
      "_________________________________________________________________\n",
      " Layer (type)                Output Shape              Param #   \n",
      "=================================================================\n",
      " conv2d_6 (Conv2D)           (None, 26, 26, 28)        280       \n",
      "                                                                 \n",
      " conv2d_7 (Conv2D)           (None, 24, 24, 28)        7084      \n",
      "                                                                 \n",
      " max_pooling2d_2 (MaxPooling  (None, 12, 12, 28)       0         \n",
      " 2D)                                                             \n",
      "                                                                 \n",
      " conv2d_8 (Conv2D)           (None, 12, 12, 14)        3542      \n",
      "                                                                 \n",
      " flatten_2 (Flatten)         (None, 2016)              0         \n",
      "                                                                 \n",
      " dropout_2 (Dropout)         (None, 2016)              0         \n",
      "                                                                 \n",
      " dense_2 (Dense)             (None, 10)                20170     \n",
      "                                                                 \n",
      "=================================================================\n",
      "Total params: 31,076\n",
      "Trainable params: 31,076\n",
      "Non-trainable params: 0\n",
      "_________________________________________________________________\n"
     ]
    }
   ],
   "source": [
    "mnist_model=Sequential([\n",
    "    layers.Input(shape=(28,28,1)),\n",
    "    layers.Conv2D(28,kernel_size=(3,3),kernel_regularizer=regularizers.L1(0.02),padding='valid',activation='relu',input_shape=(28,28)),\n",
    "    layers.Conv2D(28,kernel_size=(3,3),padding='valid',activation='relu'),\n",
    "    layers.MaxPool2D(),\n",
    "    layers.Conv2D(14,kernel_size=(3,3),padding='same',activation='relu'),\n",
    "    layers.Flatten(),\n",
    "    layers.Dropout(0.4),\n",
    "    layers.Dense(10)\n",
    "])\n",
    "mnist_model.summary()"
   ]
  },
  {
   "cell_type": "code",
   "execution_count": 49,
   "id": "a7f85a84",
   "metadata": {},
   "outputs": [],
   "source": [
    "learning_rate=0.002\n",
    "batch_size=32\n",
    "epochs=5"
   ]
  },
  {
   "cell_type": "code",
   "execution_count": 50,
   "id": "68d2676c",
   "metadata": {},
   "outputs": [],
   "source": [
    "mnist_model.compile(\n",
    "    optimizer=optimizers.Adam(learning_rate=learning_rate),\n",
    "    loss=losses.SparseCategoricalCrossentropy(from_logits=True),\n",
    "    metrics=['Accuracy',losses.sparse_categorical_crossentropy]\n",
    ")"
   ]
  },
  {
   "cell_type": "code",
   "execution_count": 51,
   "id": "cbd346f3",
   "metadata": {},
   "outputs": [
    {
     "name": "stdout",
     "output_type": "stream",
     "text": [
      "Epoch 1/5\n",
      "1500/1500 [==============================] - 62s 41ms/step - loss: 0.2531 - Accuracy: 0.9377 - sparse_categorical_crossentropy: 0.5998 - val_loss: 0.1050 - val_Accuracy: 0.9769 - val_sparse_categorical_crossentropy: 0.2761\n",
      "Epoch 2/5\n",
      "1500/1500 [==============================] - 63s 42ms/step - loss: 0.1092 - Accuracy: 0.9728 - sparse_categorical_crossentropy: 0.3156 - val_loss: 0.0802 - val_Accuracy: 0.9820 - val_sparse_categorical_crossentropy: 0.2229\n",
      "Epoch 3/5\n",
      "1500/1500 [==============================] - 69s 46ms/step - loss: 0.0852 - Accuracy: 0.9786 - sparse_categorical_crossentropy: 0.2884 - val_loss: 0.0746 - val_Accuracy: 0.9826 - val_sparse_categorical_crossentropy: 0.2305\n",
      "Epoch 4/5\n",
      "1500/1500 [==============================] - 69s 46ms/step - loss: 0.0728 - Accuracy: 0.9815 - sparse_categorical_crossentropy: 0.2735 - val_loss: 0.0635 - val_Accuracy: 0.9870 - val_sparse_categorical_crossentropy: 0.1845\n",
      "Epoch 5/5\n",
      "1500/1500 [==============================] - 72s 48ms/step - loss: 0.0686 - Accuracy: 0.9825 - sparse_categorical_crossentropy: 0.2513 - val_loss: 0.0585 - val_Accuracy: 0.9866 - val_sparse_categorical_crossentropy: 0.1499\n"
     ]
    }
   ],
   "source": [
    "history=mnist_model.fit(x_train,y_train,batch_size=batch_size,epochs=epochs,verbose=1,validation_split=0.2,shuffle=True)"
   ]
  },
  {
   "cell_type": "code",
   "execution_count": 52,
   "id": "1156438e",
   "metadata": {},
   "outputs": [
    {
     "data": {
      "text/plain": [
       "{'loss': [0.2531183958053589,\n",
       "  0.10921803116798401,\n",
       "  0.08519245684146881,\n",
       "  0.07281184196472168,\n",
       "  0.06864872574806213],\n",
       " 'Accuracy': [0.937749981880188,\n",
       "  0.9727916717529297,\n",
       "  0.9785624742507935,\n",
       "  0.9815000295639038,\n",
       "  0.9824791550636292],\n",
       " 'sparse_categorical_crossentropy': [0.5998401045799255,\n",
       "  0.3156311511993408,\n",
       "  0.28838440775871277,\n",
       "  0.2734871208667755,\n",
       "  0.251310259103775],\n",
       " 'val_loss': [0.10502590239048004,\n",
       "  0.08021722733974457,\n",
       "  0.07463029026985168,\n",
       "  0.06348399072885513,\n",
       "  0.05851614847779274],\n",
       " 'val_Accuracy': [0.9769166707992554,\n",
       "  0.9819999933242798,\n",
       "  0.9825833439826965,\n",
       "  0.9869999885559082,\n",
       "  0.9865833520889282],\n",
       " 'val_sparse_categorical_crossentropy': [0.27613797783851624,\n",
       "  0.22288472950458527,\n",
       "  0.23054064810276031,\n",
       "  0.18452686071395874,\n",
       "  0.14992444217205048]}"
      ]
     },
     "execution_count": 52,
     "metadata": {},
     "output_type": "execute_result"
    }
   ],
   "source": [
    "history.history"
   ]
  },
  {
   "cell_type": "code",
   "execution_count": 53,
   "id": "9172fc16",
   "metadata": {},
   "outputs": [
    {
     "data": {
      "text/html": [
       "<div>\n",
       "<style scoped>\n",
       "    .dataframe tbody tr th:only-of-type {\n",
       "        vertical-align: middle;\n",
       "    }\n",
       "\n",
       "    .dataframe tbody tr th {\n",
       "        vertical-align: top;\n",
       "    }\n",
       "\n",
       "    .dataframe thead th {\n",
       "        text-align: right;\n",
       "    }\n",
       "</style>\n",
       "<table border=\"1\" class=\"dataframe\">\n",
       "  <thead>\n",
       "    <tr style=\"text-align: right;\">\n",
       "      <th></th>\n",
       "      <th>loss</th>\n",
       "      <th>Accuracy</th>\n",
       "      <th>sparse_categorical_crossentropy</th>\n",
       "      <th>val_loss</th>\n",
       "      <th>val_Accuracy</th>\n",
       "      <th>val_sparse_categorical_crossentropy</th>\n",
       "    </tr>\n",
       "  </thead>\n",
       "  <tbody>\n",
       "    <tr>\n",
       "      <th>0</th>\n",
       "      <td>0.253118</td>\n",
       "      <td>0.937750</td>\n",
       "      <td>0.599840</td>\n",
       "      <td>0.105026</td>\n",
       "      <td>0.976917</td>\n",
       "      <td>0.276138</td>\n",
       "    </tr>\n",
       "    <tr>\n",
       "      <th>1</th>\n",
       "      <td>0.109218</td>\n",
       "      <td>0.972792</td>\n",
       "      <td>0.315631</td>\n",
       "      <td>0.080217</td>\n",
       "      <td>0.982000</td>\n",
       "      <td>0.222885</td>\n",
       "    </tr>\n",
       "    <tr>\n",
       "      <th>2</th>\n",
       "      <td>0.085192</td>\n",
       "      <td>0.978562</td>\n",
       "      <td>0.288384</td>\n",
       "      <td>0.074630</td>\n",
       "      <td>0.982583</td>\n",
       "      <td>0.230541</td>\n",
       "    </tr>\n",
       "    <tr>\n",
       "      <th>3</th>\n",
       "      <td>0.072812</td>\n",
       "      <td>0.981500</td>\n",
       "      <td>0.273487</td>\n",
       "      <td>0.063484</td>\n",
       "      <td>0.987000</td>\n",
       "      <td>0.184527</td>\n",
       "    </tr>\n",
       "    <tr>\n",
       "      <th>4</th>\n",
       "      <td>0.068649</td>\n",
       "      <td>0.982479</td>\n",
       "      <td>0.251310</td>\n",
       "      <td>0.058516</td>\n",
       "      <td>0.986583</td>\n",
       "      <td>0.149924</td>\n",
       "    </tr>\n",
       "  </tbody>\n",
       "</table>\n",
       "</div>"
      ],
      "text/plain": [
       "       loss  Accuracy  sparse_categorical_crossentropy  val_loss  \\\n",
       "0  0.253118  0.937750                         0.599840  0.105026   \n",
       "1  0.109218  0.972792                         0.315631  0.080217   \n",
       "2  0.085192  0.978562                         0.288384  0.074630   \n",
       "3  0.072812  0.981500                         0.273487  0.063484   \n",
       "4  0.068649  0.982479                         0.251310  0.058516   \n",
       "\n",
       "   val_Accuracy  val_sparse_categorical_crossentropy  \n",
       "0      0.976917                             0.276138  \n",
       "1      0.982000                             0.222885  \n",
       "2      0.982583                             0.230541  \n",
       "3      0.987000                             0.184527  \n",
       "4      0.986583                             0.149924  "
      ]
     },
     "execution_count": 53,
     "metadata": {},
     "output_type": "execute_result"
    }
   ],
   "source": [
    "df=pd.DataFrame(history.history)\n",
    "df"
   ]
  },
  {
   "cell_type": "code",
   "execution_count": 54,
   "id": "5e893e83",
   "metadata": {},
   "outputs": [
    {
     "data": {
      "image/png": "[encoded data removed]",
      "text/plain": [
       "<Figure size 576x360 with 1 Axes>"
      ]
     },
     "metadata": {
      "needs_background": "light"
     },
     "output_type": "display_data"
    }
   ],
   "source": [
    "plt.figure(figsize=(8,5))\n",
    "plt.plot(df['loss'],label='Model loss')\n",
    "plt.plot(df['Accuracy'],label='Model Accuracy')\n",
    "plt.xlabel('Epochs')\n",
    "plt.ylabel('Value')\n",
    "plt.title('Loss vs Accuracy curve')\n",
    "plt.legend()\n",
    "plt.show()"
   ]
  },
  {
   "cell_type": "code",
   "execution_count": 55,
   "id": "3588f4ec",
   "metadata": {
    "scrolled": true
   },
   "outputs": [
    {
     "data": {
      "image/png": "[encoded data removed]",
      "text/plain": [
       "<Figure size 1152x360 with 2 Axes>"
      ]
     },
     "metadata": {
      "needs_background": "light"
     },
     "output_type": "display_data"
    }
   ],
   "source": [
    "plt.figure(figsize=(16,5))\n",
    "plt.subplot(1,2,1)\n",
    "plt.plot(df['Accuracy'],label='Training Accuracy',color='cyan')\n",
    "plt.plot(df['val_Accuracy'],label='Validation accuracy',color='Orange')\n",
    "plt.xlabel('Epochs')\n",
    "plt.ylabel('Accuracy')\n",
    "plt.title('Model Accuracy Trend')\n",
    "plt.legend(loc='lower right')\n",
    "\n",
    "plt.subplot(1,2,2)\n",
    "plt.plot(df['loss'],label='Training Loss',color='red')\n",
    "plt.plot(df['val_loss'],label='Validation loss',color='Blue')\n",
    "plt.plot(df['val_sparse_categorical_crossentropy'],label='Sparse Categorical Cross Entropy Loss',color='violet')\n",
    "plt.xlabel('Epochs')\n",
    "plt.ylabel('Loss')\n",
    "plt.legend(loc='upper right')\n",
    "plt.title('Model Loss Trend')\n",
    "plt.show()"
   ]
  },
  {
   "cell_type": "code",
   "execution_count": 56,
   "id": "0ce527e7",
   "metadata": {},
   "outputs": [
    {
     "name": "stdout",
     "output_type": "stream",
     "text": [
      "313/313 [==============================] - 4s 12ms/step - loss: 6.3491 - Accuracy: 0.9846 - sparse_categorical_crossentropy: 0.2541\n"
     ]
    }
   ],
   "source": [
    "x=mnist_model.evaluate(x_test,y_test)"
   ]
  },
  {
   "cell_type": "code",
   "execution_count": 57,
   "id": "fd3e6d17",
   "metadata": {},
   "outputs": [
    {
     "name": "stdout",
     "output_type": "stream",
     "text": [
      "Test Loss: 6.349142551422119\n",
      "Test Accuracy: 98.460%\n",
      "Sparse Categorical Cross Entropy Loss: 0.25409913063049316\n"
     ]
    }
   ],
   "source": [
    "print(f'Test Loss: {x[0]}')\n",
    "print(f'Test Accuracy: {x[1]*100:.3f}%')\n",
    "print(f'Sparse Categorical Cross Entropy Loss: {x[2]}')"
   ]
  },
  {
   "cell_type": "code",
   "execution_count": 58,
   "id": "69da3024",
   "metadata": {},
   "outputs": [],
   "source": [
    "prediction_model=Sequential([\n",
    "    mnist_model,\n",
    "    layers.Softmax()\n",
    "])"
   ]
  },
  {
   "cell_type": "code",
   "execution_count": 59,
   "id": "6b82e77e",
   "metadata": {},
   "outputs": [
    {
     "name": "stdout",
     "output_type": "stream",
     "text": [
      "313/313 [==============================] - 3s 10ms/step\n"
     ]
    },
    {
     "data": {
      "text/plain": [
       "(10000, 10)"
      ]
     },
     "execution_count": 59,
     "metadata": {},
     "output_type": "execute_result"
    }
   ],
   "source": [
    "preds=prediction_model.predict(x_test)\n",
    "preds.shape"
   ]
  },
  {
   "cell_type": "code",
   "execution_count": 60,
   "id": "2fc62e85",
   "metadata": {
    "scrolled": true
   },
   "outputs": [
    {
     "data": {
      "image/png": "[encoded data removed]",
      "text/plain": [
       "<Figure size 432x288 with 8 Axes>"
      ]
     },
     "metadata": {
      "needs_background": "light"
     },
     "output_type": "display_data"
    }
   ],
   "source": [
    "visualize_data(x_test[100:108])"
   ]
  },
  {
   "cell_type": "code",
   "execution_count": 61,
   "id": "5b36a900",
   "metadata": {},
   "outputs": [
    {
     "name": "stdout",
     "output_type": "stream",
     "text": [
      "Prediction: [6 0 5 4 9 9 2 1]\n"
     ]
    }
   ],
   "source": [
    "# Sample Predictions\n",
    "print(\"Prediction:\",preds[100:108].argmax(axis=1))"
   ]
  },
  {
   "cell_type": "code",
   "execution_count": 62,
   "id": "12ef6ae2",
   "metadata": {},
   "outputs": [
    {
     "name": "stderr",
     "output_type": "stream",
     "text": [
      "WARNING:absl:Found untraced functions such as _jit_compiled_convolution_op, _jit_compiled_convolution_op, _jit_compiled_convolution_op while saving (showing 3 of 3). These functions will not be directly callable after loading.\n"
     ]
    },
    {
     "name": "stdout",
     "output_type": "stream",
     "text": [
      "INFO:tensorflow:Assets written to: .\\MNIST Model v1.0\\assets\n"
     ]
    },
    {
     "name": "stderr",
     "output_type": "stream",
     "text": [
      "INFO:tensorflow:Assets written to: .\\MNIST Model v1.0\\assets\n"
     ]
    }
   ],
   "source": [
    "mnist_model.save('.\\MNIST Model v1.0')"
   ]
  },
  {
   "cell_type": "code",
   "execution_count": null,
   "id": "f2d159f2",
   "metadata": {},
   "outputs": [],
   "source": []
  }
 ],
 "metadata": {
  "kernelspec": {
   "display_name": "Python 3 (ipykernel)",
   "language": "python",
   "name": "python3"
  },
  "language_info": {
   "codemirror_mode": {
    "name": "ipython",
    "version": 3
   },
   "file_extension": ".py",
   "mimetype": "text/x-python",
   "name": "python",
   "nbconvert_exporter": "python",
   "pygments_lexer": "ipython3",
   "version": "3.9.7"
  }
 },
 "nbformat": 4,
 "nbformat_minor": 5
}
